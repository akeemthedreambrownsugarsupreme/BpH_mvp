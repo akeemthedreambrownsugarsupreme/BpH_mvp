{
  "cells": [
    {
      "cell_type": "code",
      "execution_count": 1,
      "metadata": {
        "id": "P7VIvw_DW7Ql"
      },
      "outputs": [],
      "source": [
        "from bs4 import BeautifulSoup\n",
        "import requests\n",
        "import pandas as pd\n",
        "import urllib"
      ]
    },
    {
      "cell_type": "code",
      "execution_count": 2,
      "metadata": {
        "id": "WMrWXR4-XCdm"
      },
      "outputs": [],
      "source": [
        "URL = \"https://www.realtor.ca/ab/edmonton/real-estate\""
      ]
    },
    {
      "cell_type": "code",
      "execution_count": 3,
      "metadata": {
        "id": "SuLF61MUYMBf"
      },
      "outputs": [],
      "source": [
        "HEADERS = ({'User-Agent':'Mozilla/5.0 (Windows NT 10.0; Win64; x64) AppleWebKit/537.36 (KHTML, like Gecko) Chrome/124.0.0.0 Safari/537.36', 'Accept-Language': 'en-US,en;q=0.5'})"
      ]
    },
    {
      "cell_type": "code",
      "execution_count": 4,
      "metadata": {
        "id": "A3zvMmzqXeNO"
      },
      "outputs": [],
      "source": [
        "webpage = requests.get(URL, headers=HEADERS)"
      ]
    },
    {
      "cell_type": "code",
      "execution_count": 12,
      "metadata": {
        "colab": {
          "base_uri": "https://localhost:8080/"
        },
        "id": "ccLYZEqqcY-G",
        "outputId": "f1436229-55b2-43e4-d776-00203a16854b"
      },
      "outputs": [
        {
          "data": {
            "text/plain": [
              "<Response [200]>"
            ]
          },
          "execution_count": 12,
          "metadata": {},
          "output_type": "execute_result"
        }
      ],
      "source": [
        "webpage"
      ]
    },
    {
      "cell_type": "code",
      "execution_count": 13,
      "metadata": {
        "colab": {
          "base_uri": "https://localhost:8080/"
        },
        "id": "DxyMw7BtXnpY",
        "outputId": "52a69812-cb8b-4664-aeb7-0d996924e26d"
      },
      "outputs": [
        {
          "data": {
            "text/plain": [
              "b'<html>\\r\\n<head>\\r\\n<META NAME=\"robots\" CONTENT=\"noindex,nofollow\">\\r\\n<script src=\"/_Incapsula_Resource?SWJIYLWA=5074a744e2e3d891814e9a2dace20bd4,719d34d31c8e3a6e6fffd425f7e032f3\">\\r\\n</script>\\r\\n<body>\\r\\n</body></html>\\r\\n'"
            ]
          },
          "execution_count": 13,
          "metadata": {},
          "output_type": "execute_result"
        }
      ],
      "source": [
        "webpage.content"
      ]
    },
    {
      "cell_type": "code",
      "execution_count": 7,
      "metadata": {
        "id": "y_gh-ixkXo7R"
      },
      "outputs": [],
      "source": [
        "soup = BeautifulSoup(webpage.content, \"html.parser\")"
      ]
    },
    {
      "cell_type": "markdown",
      "metadata": {
        "id": "v_WHvvXT-Bs2"
      },
      "source": [
        "#to list card price of first page"
      ]
    },
    {
      "cell_type": "code",
      "execution_count": 8,
      "metadata": {
        "id": "KAJ10j7E9hth"
      },
      "outputs": [],
      "source": [
        "list_cardprice = soup.find_all(\"a\", attrs={'class':'listingCardPrice'})"
      ]
    },
    {
      "cell_type": "markdown",
      "metadata": {
        "id": "Z3mhc8rY-Yry"
      },
      "source": [
        "# to list the links of first page"
      ]
    },
    {
      "cell_type": "code",
      "execution_count": 9,
      "metadata": {
        "id": "MZ9b14xR9jeX"
      },
      "outputs": [],
      "source": [
        "list_alllinks = soup.find_all(\"a\", attrs={'class':'blockLink listingDetailsLink'})"
      ]
    },
    {
      "cell_type": "code",
      "execution_count": 10,
      "metadata": {
        "colab": {
          "base_uri": "https://localhost:8080/"
        },
        "id": "FN3i8qaT-qOG",
        "outputId": "6658e5b3-b63a-425e-bacc-07ffa0deb4ed"
      },
      "outputs": [
        {
          "data": {
            "text/plain": [
              "[]"
            ]
          },
          "execution_count": 10,
          "metadata": {},
          "output_type": "execute_result"
        }
      ],
      "source": [
        "list_cardprice"
      ]
    },
    {
      "cell_type": "code",
      "execution_count": 11,
      "metadata": {
        "colab": {
          "base_uri": "https://localhost:8080/"
        },
        "id": "HAeACdhq-tts",
        "outputId": "011d8581-02cf-44a8-f857-5cde75adaf86"
      },
      "outputs": [
        {
          "data": {
            "text/plain": [
              "[]"
            ]
          },
          "execution_count": 11,
          "metadata": {},
          "output_type": "execute_result"
        }
      ],
      "source": [
        "list_alllinks"
      ]
    }
  ],
  "metadata": {
    "colab": {
      "provenance": [],
      "toc_visible": true
    },
    "kernelspec": {
      "display_name": "Python 3",
      "name": "python3"
    },
    "language_info": {
      "codemirror_mode": {
        "name": "ipython",
        "version": 3
      },
      "file_extension": ".py",
      "mimetype": "text/x-python",
      "name": "python",
      "nbconvert_exporter": "python",
      "pygments_lexer": "ipython3",
      "version": "3.11.8"
    }
  },
  "nbformat": 4,
  "nbformat_minor": 0
}
