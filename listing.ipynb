{
  "nbformat": 4,
  "nbformat_minor": 0,
  "metadata": {
    "colab": {
      "provenance": [],
      "toc_visible": true
    },
    "kernelspec": {
      "name": "python3",
      "display_name": "Python 3"
    },
    "language_info": {
      "name": "python"
    }
  },
  "cells": [
    {
      "cell_type": "code",
      "execution_count": 11,
      "metadata": {
        "id": "P7VIvw_DW7Ql"
      },
      "outputs": [],
      "source": [
        "from bs4 import BeautifulSoup\n",
        "import requests\n",
        "import pandas as pd\n",
        "import urllib"
      ]
    },
    {
      "cell_type": "code",
      "source": [
        "URL = \"https://www.realtor.ca/ab/edmonton/real-estate\""
      ],
      "metadata": {
        "id": "WMrWXR4-XCdm"
      },
      "execution_count": 12,
      "outputs": []
    },
    {
      "cell_type": "code",
      "source": [
        "HEADERS = ({'User-Agent':'Mozilla/5.0 (Windows NT 10.0; Win64; x64) AppleWebKit/537.36 (KHTML, like Gecko) Chrome/124.0.0.0 Safari/537.36', 'Accept-Language': 'en-US,en;q=0.5'})"
      ],
      "metadata": {
        "id": "SuLF61MUYMBf"
      },
      "execution_count": 13,
      "outputs": []
    },
    {
      "cell_type": "code",
      "source": [
        "webpage = requests.get(URL, headers=HEADERS)"
      ],
      "metadata": {
        "id": "A3zvMmzqXeNO"
      },
      "execution_count": 14,
      "outputs": []
    },
    {
      "cell_type": "code",
      "source": [
        "webpage"
      ],
      "metadata": {
        "colab": {
          "base_uri": "https://localhost:8080/"
        },
        "id": "ccLYZEqqcY-G",
        "outputId": "f1436229-55b2-43e4-d776-00203a16854b"
      },
      "execution_count": 15,
      "outputs": [
        {
          "output_type": "execute_result",
          "data": {
            "text/plain": [
              "<Response [200]>"
            ]
          },
          "metadata": {},
          "execution_count": 15
        }
      ]
    },
    {
      "cell_type": "code",
      "source": [
        "type(webpage.content)"
      ],
      "metadata": {
        "colab": {
          "base_uri": "https://localhost:8080/"
        },
        "id": "DxyMw7BtXnpY",
        "outputId": "52a69812-cb8b-4664-aeb7-0d996924e26d"
      },
      "execution_count": 16,
      "outputs": [
        {
          "output_type": "execute_result",
          "data": {
            "text/plain": [
              "bytes"
            ]
          },
          "metadata": {},
          "execution_count": 16
        }
      ]
    },
    {
      "cell_type": "code",
      "source": [
        "soup = BeautifulSoup(webpage.content, \"html.parser\")"
      ],
      "metadata": {
        "id": "y_gh-ixkXo7R"
      },
      "execution_count": 17,
      "outputs": []
    },
    {
      "cell_type": "markdown",
      "source": [
        "#to list card price of first page"
      ],
      "metadata": {
        "id": "v_WHvvXT-Bs2"
      }
    },
    {
      "cell_type": "code",
      "source": [
        "list_cardprice = soup.find_all(\"a\", attrs={'class':'listingCardPrice'})"
      ],
      "metadata": {
        "id": "KAJ10j7E9hth"
      },
      "execution_count": 22,
      "outputs": []
    },
    {
      "cell_type": "markdown",
      "source": [
        "# to list the links of first page"
      ],
      "metadata": {
        "id": "Z3mhc8rY-Yry"
      }
    },
    {
      "cell_type": "code",
      "source": [
        "list_alllinks = soup.find_all(\"a\", attrs={'class':'blockLink listingDetailsLink'})"
      ],
      "metadata": {
        "id": "MZ9b14xR9jeX"
      },
      "execution_count": 23,
      "outputs": []
    },
    {
      "cell_type": "code",
      "source": [
        "list_cardprice"
      ],
      "metadata": {
        "colab": {
          "base_uri": "https://localhost:8080/"
        },
        "id": "FN3i8qaT-qOG",
        "outputId": "6658e5b3-b63a-425e-bacc-07ffa0deb4ed"
      },
      "execution_count": 24,
      "outputs": [
        {
          "output_type": "execute_result",
          "data": {
            "text/plain": [
              "[]"
            ]
          },
          "metadata": {},
          "execution_count": 24
        }
      ]
    },
    {
      "cell_type": "code",
      "source": [
        "list_alllinks"
      ],
      "metadata": {
        "colab": {
          "base_uri": "https://localhost:8080/"
        },
        "id": "HAeACdhq-tts",
        "outputId": "011d8581-02cf-44a8-f857-5cde75adaf86"
      },
      "execution_count": 25,
      "outputs": [
        {
          "output_type": "execute_result",
          "data": {
            "text/plain": [
              "[]"
            ]
          },
          "metadata": {},
          "execution_count": 25
        }
      ]
    }
  ]
}