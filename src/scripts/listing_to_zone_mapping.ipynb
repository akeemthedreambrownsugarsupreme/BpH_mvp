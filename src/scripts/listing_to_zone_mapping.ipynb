{
 "cells": [
  {
   "cell_type": "markdown",
   "metadata": {},
   "source": [
    "This notebook aims to update the commercial and residential listings in accordance with their respective zones from the city zone map."
   ]
  },
  {
   "cell_type": "code",
   "execution_count": 8,
   "metadata": {},
   "outputs": [
    {
     "name": "stdout",
     "output_type": "stream",
     "text": [
      "\u001b[33mDEPRECATION: Loading egg at /Users/habib/miniconda3/envs/pytorch_m1_3.11/lib/python3.11/site-packages/huggingface_hub-0.20.3-py3.8.egg is deprecated. pip 24.3 will enforce this behaviour change. A possible replacement is to use pip for package installation.. Discussion can be found at https://github.com/pypa/pip/issues/12330\u001b[0m\u001b[33m\n",
      "\u001b[0mRequirement already satisfied: shapely in /Users/habib/miniconda3/envs/pytorch_m1_3.11/lib/python3.11/site-packages (2.0.3)\n",
      "Requirement already satisfied: numpy<2,>=1.14 in /Users/habib/miniconda3/envs/pytorch_m1_3.11/lib/python3.11/site-packages (from shapely) (1.26.4)\n"
     ]
    }
   ],
   "source": [
    "!pip install shapely"
   ]
  },
  {
   "cell_type": "code",
   "execution_count": 23,
   "metadata": {},
   "outputs": [
    {
     "name": "stdout",
     "output_type": "stream",
     "text": [
      "       id  zoning               description    date_ext  \\\n",
      "0  169754      PS        Parks and Services  2024/05/27   \n",
      "1  175633      CN  Neighbourhood Commercial  2024/05/27   \n",
      "2  170985      CG        General Commercial  2024/05/27   \n",
      "3  176327  RM h16  Medium Scale Residential  2024/05/27   \n",
      "4  176677  RM h16  Medium Scale Residential  2024/05/27   \n",
      "\n",
      "                                                 url  \\\n",
      "0  http://webdocs.edmonton.ca/InfraPlan/zoningbyl...   \n",
      "1  http://webdocs.edmonton.ca/InfraPlan/zoningbyl...   \n",
      "2  http://webdocs.edmonton.ca/InfraPlan/zoningbyl...   \n",
      "3  http://webdocs.edmonton.ca/InfraPlan/zoningbyl...   \n",
      "4  http://webdocs.edmonton.ca/InfraPlan/zoningbyl...   \n",
      "\n",
      "                               geometry_multipolygon  \n",
      "0  MULTIPOLYGON (((-113.46405030242478 53.4139561...  \n",
      "1  MULTIPOLYGON (((-113.48544480430161 53.5005298...  \n",
      "2  MULTIPOLYGON (((-113.41637166582207 53.5855382...  \n",
      "3  MULTIPOLYGON (((-113.49564121741932 53.5688278...  \n",
      "4  MULTIPOLYGON (((-113.37718667032956 53.4474629...  \n"
     ]
    }
   ],
   "source": [
    "# print the zonal map data\n",
    "import pandas as pd\n",
    "import numpy as np\n",
    "from shapely.geometry import MultiPolygon, Point\n",
    "from shapely.wkt import loads as load_wkt\n",
    "\n",
    "# read the data\n",
    "zonal_data = pd.read_csv('../data/Zoning_Bylaw_Geographical_Data_20240528.csv')\n",
    "\n",
    "# print the data\n",
    "print(zonal_data.head(5))"
   ]
  },
  {
   "cell_type": "code",
   "execution_count": 24,
   "metadata": {},
   "outputs": [
    {
     "name": "stdout",
     "output_type": "stream",
     "text": [
      "{'lat': 53.5005, 'lon': -113.4855, 'zoning': {'id': 175633, 'zoning': 'CN', 'description': 'Neighbourhood Commercial', 'date_ext': '2024/05/27', 'url': 'http://webdocs.edmonton.ca/InfraPlan/zoningbylaw/bylaw_12800.htm', 'geometry_multipolygon': 'MULTIPOLYGON (((-113.48544480430161 53.500529804717324, -113.48575021281256 53.50071076505371, -113.48624647281675 53.50100695034535, -113.4862309463645 53.49987387916919, -113.48469211617721 53.49987363830927, -113.48469421839806 53.50005511947766, -113.4846925282687 53.50040641492085, -113.4852351676 53.50040558977945, -113.48544480430161 53.500529804717324)))'}}\n"
     ]
    }
   ],
   "source": [
    "# Function to check if a point lies within a multipolygon\n",
    "def is_point_in_multipolygon(lat, lon):\n",
    "    point = Point(lon, lat)  # Note: Shapely uses (lon, lat) order\n",
    "    for _, row in zonal_data.iterrows():\n",
    "        multipolygon_wkt = row['geometry_multipolygon']\n",
    "        multipolygon = load_wkt(multipolygon_wkt)\n",
    "        if multipolygon.contains(point):\n",
    "            # return as row as json\n",
    "            return row.to_dict()\n",
    "    return {}\n",
    "\n",
    "# Test the function with an example point\n",
    "lat = 53.5005\n",
    "lon = -113.4855\n",
    "\n",
    "print({'lat': lat, 'lon': lon, 'zoning': is_point_in_multipolygon(lat, lon)})"
   ]
  },
  {
   "cell_type": "code",
   "execution_count": 25,
   "metadata": {},
   "outputs": [],
   "source": [
    "# read the {} data and find its zone and update the data\n",
    "# residential datas are in json format and in ../data/{}}/ folder they are slplited into multiple .js files\n",
    "\n",
    "def update_zoning(listing_type):\n",
    "    import json\n",
    "    import os\n",
    "\n",
    "    for file in os.listdir(f'../data/{listing_type}/'):\n",
    "        with open(f'../data/{listing_type}/' + file) as f:\n",
    "            data = json.load(f)\n",
    "            listings = data['Results']\n",
    "            \n",
    "            for listing in listings:\n",
    "                lat = listing['Property']['Address']['Latitude']\n",
    "                lon = listing['Property']['Address']['Longitude']\n",
    "                \n",
    "                # Find the zoning for the listing\n",
    "                zone = is_point_in_multipolygon(lat, lon)\n",
    "                listing['zone'] = zone\n",
    "            \n",
    "            # Save the updated data with _mapped suffix in the filename\n",
    "            with open(f'../data/{listing_type}/' + file.replace('.js', '_zone_mapped.js'), 'w') as newfile:\n",
    "                json.dump(data, newfile)\n",
    "                newfile.close()\n",
    "            \n",
    "            f.close()\n",
    "            \n",
    "# Update the zoning for residential and commercial listings\n",
    "update_zoning('residential')\n",
    "update_zoning('commercial')"
   ]
  }
 ],
 "metadata": {
  "kernelspec": {
   "display_name": "pytorch_m1_3.11",
   "language": "python",
   "name": "python3"
  },
  "language_info": {
   "codemirror_mode": {
    "name": "ipython",
    "version": 3
   },
   "file_extension": ".py",
   "mimetype": "text/x-python",
   "name": "python",
   "nbconvert_exporter": "python",
   "pygments_lexer": "ipython3",
   "version": "3.11.8"
  }
 },
 "nbformat": 4,
 "nbformat_minor": 2
}
